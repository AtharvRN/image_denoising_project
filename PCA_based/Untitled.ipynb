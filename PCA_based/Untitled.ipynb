{
 "cells": [
  {
   "cell_type": "code",
   "execution_count": 15,
   "id": "3f78b542",
   "metadata": {},
   "outputs": [],
   "source": [
    "#imports\n",
    "import cv2 as cv\n",
    "import numpy as np\n",
    "from skimage.metrics import structural_similarity as ssim\n",
    "import glob\n",
    "from sklearn.decomposition import PCA\n",
    "\n",
    "from matplotlib import pyplot as plt"
   ]
  },
  {
   "cell_type": "code",
   "execution_count": 16,
   "id": "48c8bdb8",
   "metadata": {},
   "outputs": [],
   "source": [
    "#function to display multiple images in subplots\n",
    "def display_images(list_of_images,list_of_titles=None):\n",
    "    N=len(list_of_images)\n",
    "    M=int(np.ceil(N/2))\n",
    "    figs,ax=plt.subplots(M,2,figsize=(12,12))\n",
    "    ax=ax.flatten()\n",
    "    for i in range(len(list_of_images)):\n",
    "        ax[i].imshow(list_of_images[i],cmap='gray')\n",
    "        if list_of_titles is not None:\n",
    "            ax[i].title.set_text(list_of_titles[i])\n",
    "\n",
    "    plt.show()"
   ]
  },
  {
   "cell_type": "code",
   "execution_count": 17,
   "id": "cd6b2bda",
   "metadata": {},
   "outputs": [],
   "source": [
    "#function to scale image to [0,1] range\n",
    "def scale_image(image):\n",
    "    return (image-np.min(image))/(np.max(image)-np.min(image))"
   ]
  },
  {
   "cell_type": "code",
   "execution_count": 18,
   "id": "2b824f0d",
   "metadata": {},
   "outputs": [],
   "source": [
    "def pca_denoising(noisy_image,original_image):\n",
    "    best_ssim=0\n",
    "    best_denoised_image=None\n",
    "    for n_components in range(50,220,5):\n",
    "        pca=PCA(int(n_components))\n",
    "        img_transformed=pca.fit_transform(noisy_image)\n",
    "        img_inverted=pca.inverse_transform(img_transformed)\n",
    "        ssim_val=ssim(img_inverted,original_image)\n",
    "        if best_denoised_image is None:\n",
    "            best_denoised_image=img_inverted.copy()\n",
    "            best_ssim=ssim_val\n",
    "        else:\n",
    "            if ssim_val>best_ssim:\n",
    "                best_ssim=ssim_val\n",
    "                best_denoised_image=img_inverted.copy()\n",
    "    return [best_denoised_image,best_ssim,n_components]\n",
    "\n",
    "        "
   ]
  },
  {
   "cell_type": "code",
   "execution_count": 19,
   "id": "3d727504",
   "metadata": {},
   "outputs": [],
   "source": [
    "args={}\n",
    "args[\"original\"]=\"../../dataset/CBSD68-dataset/CBSD68/original_png\"\n",
    "args[\"noisy\"]=\"../../dataset/CBSD68-dataset/CBSD68/noisy25\"\n",
    "args[\"variance\"]=25"
   ]
  },
  {
   "cell_type": "code",
   "execution_count": 20,
   "id": "de935de0",
   "metadata": {},
   "outputs": [],
   "source": [
    "original_images_list=glob.glob(args[\"original\"]+\"/*\")\n",
    "noisy_images_list=glob.glob(args[\"noisy\"]+\"/*\")\n"
   ]
  },
  {
   "cell_type": "code",
   "execution_count": 21,
   "id": "d1b808ec",
   "metadata": {},
   "outputs": [
    {
     "name": "stdout",
     "output_type": "stream",
     "text": [
      "[INFO] Processed 1 / 68 \n",
      "[INFO] Processed 2 / 68 \n",
      "[INFO] Processed 3 / 68 \n",
      "[INFO] Processed 4 / 68 \n",
      "[INFO] Processed 5 / 68 \n",
      "[INFO] Processed 6 / 68 \n",
      "[INFO] Processed 7 / 68 \n",
      "[INFO] Processed 8 / 68 \n",
      "[INFO] Processed 9 / 68 \n",
      "[INFO] Processed 10 / 68 \n",
      "[INFO] Processed 11 / 68 \n",
      "[INFO] Processed 12 / 68 \n",
      "[INFO] Processed 13 / 68 \n",
      "[INFO] Processed 14 / 68 \n",
      "[INFO] Processed 15 / 68 \n",
      "[INFO] Processed 16 / 68 \n",
      "[INFO] Processed 17 / 68 \n",
      "[INFO] Processed 18 / 68 \n",
      "[INFO] Processed 19 / 68 \n",
      "[INFO] Processed 20 / 68 \n",
      "[INFO] Processed 21 / 68 \n",
      "[INFO] Processed 22 / 68 \n",
      "[INFO] Processed 23 / 68 \n",
      "[INFO] Processed 24 / 68 \n",
      "[INFO] Processed 25 / 68 \n",
      "[INFO] Processed 26 / 68 \n",
      "[INFO] Processed 27 / 68 \n",
      "[INFO] Processed 28 / 68 \n",
      "[INFO] Processed 29 / 68 \n",
      "[INFO] Processed 30 / 68 \n",
      "[INFO] Processed 31 / 68 \n",
      "[INFO] Processed 32 / 68 \n",
      "[INFO] Processed 33 / 68 \n",
      "[INFO] Processed 34 / 68 \n",
      "[INFO] Processed 35 / 68 \n",
      "[INFO] Processed 36 / 68 \n",
      "[INFO] Processed 37 / 68 \n",
      "[INFO] Processed 38 / 68 \n",
      "[INFO] Processed 39 / 68 \n",
      "[INFO] Processed 40 / 68 \n",
      "[INFO] Processed 41 / 68 \n",
      "[INFO] Processed 42 / 68 \n",
      "[INFO] Processed 43 / 68 \n",
      "[INFO] Processed 44 / 68 \n",
      "[INFO] Processed 45 / 68 \n",
      "[INFO] Processed 46 / 68 \n",
      "[INFO] Processed 47 / 68 \n",
      "[INFO] Processed 48 / 68 \n",
      "[INFO] Processed 49 / 68 \n",
      "[INFO] Processed 50 / 68 \n",
      "[INFO] Processed 51 / 68 \n",
      "[INFO] Processed 52 / 68 \n",
      "[INFO] Processed 53 / 68 \n",
      "[INFO] Processed 54 / 68 \n",
      "[INFO] Processed 55 / 68 \n",
      "[INFO] Processed 56 / 68 \n",
      "[INFO] Processed 57 / 68 \n",
      "[INFO] Processed 58 / 68 \n",
      "[INFO] Processed 59 / 68 \n",
      "[INFO] Processed 60 / 68 \n",
      "[INFO] Processed 61 / 68 \n",
      "[INFO] Processed 62 / 68 \n",
      "[INFO] Processed 63 / 68 \n",
      "[INFO] Processed 64 / 68 \n",
      "[INFO] Processed 65 / 68 \n",
      "[INFO] Processed 66 / 68 \n",
      "[INFO] Processed 67 / 68 \n",
      "[INFO] Processed 68 / 68 \n"
     ]
    }
   ],
   "source": [
    "n_components_list=[]\n",
    "for i in range(len(original_images_list)):\n",
    "    noisy_image_path=noisy_images_list[i]\n",
    "    image_name=noisy_image_path.split(\"/\")[-1]\n",
    "    original_image_path=args[\"original\"]+\"/\"+image_name\n",
    "    original_image=cv.imread(original_image_path)\n",
    "    original_image=cv.cvtColor(original_image,cv.COLOR_BGR2GRAY)\n",
    "    original_image=scale_image(original_image)\n",
    "    noisy_image=cv.imread(noisy_image_path)\n",
    "    noisy_image=cv.cvtColor(noisy_image,cv.COLOR_BGR2GRAY)\n",
    "    noisy_image=scale_image(noisy_image)\n",
    "    best_denoised_image,best_ssim,n_components=pca_denoising(noisy_image,original_image)\n",
    "    best_denoised_image=np.uint8(255*best_denoised_image)\n",
    "    n_components_list.append(n_components)\n",
    "    output_name=\"output_{}/{}\".format(args[\"variance\"],image_name)\n",
    "    cv.imwrite(output_name,best_denoised_image)\n",
    "    print(\"[INFO] Processed {} / {} \".format(i+1,len(original_images_list)))"
   ]
  },
  {
   "cell_type": "code",
   "execution_count": 24,
   "id": "c54f3600",
   "metadata": {},
   "outputs": [
    {
     "data": {
      "text/plain": [
       "[<matplotlib.lines.Line2D at 0x7fac396d91f0>]"
      ]
     },
     "execution_count": 24,
     "metadata": {},
     "output_type": "execute_result"
    },
    {
     "data": {
      "image/png": "[encoded data removed]",
      "text/plain": [
       "<Figure size 432x288 with 1 Axes>"
      ]
     },
     "metadata": {
      "needs_background": "light"
     },
     "output_type": "display_data"
    }
   ],
   "source": [
    "plt.plot(n_components_list,'k--')"
   ]
  },
  {
   "cell_type": "code",
   "execution_count": 23,
   "id": "3bf4ced3",
   "metadata": {},
   "outputs": [
    {
     "name": "stdout",
     "output_type": "stream",
     "text": [
      "Untitled.ipynb \u001b[34moutput_15\u001b[m\u001b[m      \u001b[34moutput_25\u001b[m\u001b[m\r\n"
     ]
    }
   ],
   "source": [
    "!ls"
   ]
  },
  {
   "cell_type": "code",
   "execution_count": null,
   "id": "4df50b89",
   "metadata": {},
   "outputs": [],
   "source": []
  }
 ],
 "metadata": {
  "kernelspec": {
   "display_name": "Python 3 (ipykernel)",
   "language": "python",
   "name": "python3"
  },
  "language_info": {
   "codemirror_mode": {
    "name": "ipython",
    "version": 3
   },
   "file_extension": ".py",
   "mimetype": "text/x-python",
   "name": "python",
   "nbconvert_exporter": "python",
   "pygments_lexer": "ipython3",
   "version": "3.9.12"
  }
 },
 "nbformat": 4,
 "nbformat_minor": 5
}
